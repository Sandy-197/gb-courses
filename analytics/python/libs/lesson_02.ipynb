{
  "nbformat": 4,
  "nbformat_minor": 0,
  "metadata": {
    "colab": {
      "name": "lesson-2.ipynb",
      "provenance": [],
      "collapsed_sections": [],
      "authorship_tag": "ABX9TyMHCnmj7bVVaQXwsct6pY16",
      "include_colab_link": true
    },
    "kernelspec": {
      "name": "python3",
      "display_name": "Python 3"
    },
    "language_info": {
      "name": "python"
    }
  },
  "cells": [
    {
      "cell_type": "markdown",
      "metadata": {
        "id": "view-in-github",
        "colab_type": "text"
      },
      "source": [
        "<a href=\"https://colab.research.google.com/github/Sandy-197/python-course/blob/lib-lesson-2/lesson_2.ipynb\" target=\"_parent\"><img src=\"https://colab.research.google.com/assets/colab-badge.svg\" alt=\"Open In Colab\"/></a>"
      ]
    },
    {
      "cell_type": "code",
      "execution_count": 17,
      "metadata": {
        "id": "6qle83yt1jpM"
      },
      "outputs": [],
      "source": [
        "import numpy as np\n"
      ]
    },
    {
      "cell_type": "markdown",
      "source": [
        "# Тема “Вычисления с помощью Numpy”\n",
        "## Задание 1.\n",
        "Создайте массив Numpy под названием a размером 5x2, то есть состоящий из 5 строк и 2 столбцов. Первый столбец должен содержать числа 1, 2, 3, 3, 1, а второй - числа 6, 8, 11, 10, 7. Будем считать, что каждый столбец - это признак, а строка - наблюдение. Затем найдите среднее значение по каждому признаку, используя метод mean массива Numpy. Результат запишите в массив mean_a, в нем должно быть 2 элемента.**Текст, выделенный полужирным шрифтом**"
      ],
      "metadata": {
        "id": "ZHyECna35IpK"
      }
    },
    {
      "cell_type": "code",
      "source": [
        "a=np.array([[1,6],[2,8],[3,11],[3,10],[1,7]])\n",
        "print(\"Массив a: \\n{}\".format(a))\n",
        "mean_a=a.mean(axis=0)\n",
        "print(\"Средние значение по признаку:\\n{}\".format(mean_a))\n"
      ],
      "metadata": {
        "colab": {
          "base_uri": "https://localhost:8080/"
        },
        "id": "9ICiUEqZ3fR5",
        "outputId": "1cced172-8d91-4d38-ef0c-7ad780bfec25"
      },
      "execution_count": null,
      "outputs": [
        {
          "output_type": "stream",
          "name": "stdout",
          "text": [
            "Массив a: \n",
            "[[ 1  6]\n",
            " [ 2  8]\n",
            " [ 3 11]\n",
            " [ 3 10]\n",
            " [ 1  7]]\n",
            "Средние значение по признаку:\n",
            "[2.  8.4]\n"
          ]
        }
      ]
    },
    {
      "cell_type": "markdown",
      "source": [
        "## Задание 2.\n",
        "Вычислите массив a_centered, отняв от значений массива “а” средние значения соответствующих признаков, содержащиеся в массиве mean_a. Вычисление должно производиться в одно действие. Получившийся массив должен иметь размер 5x2"
      ],
      "metadata": {
        "id": "gDWHtw225Tyl"
      }
    },
    {
      "cell_type": "code",
      "source": [
        "a_centered=np.subtract(a,mean_a)\n",
        "print (a_centered)\n"
      ],
      "metadata": {
        "colab": {
          "base_uri": "https://localhost:8080/"
        },
        "id": "AjjpLz4S5akd",
        "outputId": "5372b9f4-e5b3-42d6-e5f1-866a32bf7080"
      },
      "execution_count": null,
      "outputs": [
        {
          "output_type": "stream",
          "name": "stdout",
          "text": [
            "[[-1.  -2.4]\n",
            " [ 0.  -0.4]\n",
            " [ 1.   2.6]\n",
            " [ 1.   1.6]\n",
            " [-1.  -1.4]]\n"
          ]
        }
      ]
    },
    {
      "cell_type": "markdown",
      "source": [
        "## Задание 3.\n",
        "Найдите скалярное произведение столбцов массива a_centered. В результате должна получиться величина a_centered_sp. Затем поделите a_centered_sp на N-1, где N - число наблюдений"
      ],
      "metadata": {
        "id": "cM6jbZyb6z6x"
      }
    },
    {
      "cell_type": "code",
      "source": [
        "a_centered_sp=np.dot(a_centered[:, 0],a_centered[:, 1])\n",
        "print(\"Склярное произведение столбцов {}\".format(a_centered_sp))\n",
        "print(\"a_centered_sp/(N-1)={}\".format(a_centered_sp/(a.shape[0]-1)))\n"
      ],
      "metadata": {
        "colab": {
          "base_uri": "https://localhost:8080/"
        },
        "id": "qz8nh4397I7I",
        "outputId": "bf8c1fa1-e2fa-4f16-9820-649506c7c1c9"
      },
      "execution_count": null,
      "outputs": [
        {
          "output_type": "stream",
          "name": "stdout",
          "text": [
            "Склярное произведение столбцов 8.0\n",
            "a_centered_sp/(N-1)=2.0\n"
          ]
        }
      ]
    },
    {
      "cell_type": "markdown",
      "source": [
        "## Задание 4.\n",
        "Число, которое мы получили в конце задания 3 является ковариацией двух признаков, содержащихся в массиве “а”. В задании 4 мы делили сумму произведений центрированных признаков на N-1, а не на N, поэтому полученная нами величина является несмещенной оценкой ковариации.\n",
        "\n",
        "В этом задании проверьте получившееся число, вычислив ковариацию еще одним способом - с помощью функции np.cov. В качестве аргумента m функция np.cov должна принимать транспонированный массив “a”. В получившейся ковариационной матрице (массив Numpy размером 2x2) искомое значение ковариации будет равно элементу в строке с индексом 0 и столбце с индексом 1.\n"
      ],
      "metadata": {
        "id": "6kCXhXcDR-Bn"
      }
    },
    {
      "cell_type": "code",
      "source": [
        "a_t = np.transpose(a)\n",
        "b = np.cov(a_t)\n",
        "print(b[0,1])\n"
      ],
      "metadata": {
        "colab": {
          "base_uri": "https://localhost:8080/"
        },
        "id": "ZL-ZvJhQSPbL",
        "outputId": "f81e92ec-5ef4-4bfd-d568-f939391d901d"
      },
      "execution_count": null,
      "outputs": [
        {
          "output_type": "stream",
          "name": "stdout",
          "text": [
            "[[1.  2. ]\n",
            " [2.  4.3]]\n",
            "2.0\n"
          ]
        }
      ]
    },
    {
      "cell_type": "markdown",
      "source": [
        "# Тема “Работа с данными в Pandas”\n",
        "## Задание 1.\n",
        "Импортируйте библиотеку Pandas и дайте ей псевдоним pd. \n",
        "Создайте датафрейм authors со столбцами author_id и author_name, в которых соответственно содержатся данные: [1, 2, 3] и ['Тургенев', 'Чехов', 'Островский'].\n",
        "Затем создайте датафрейм book cо столбцами author_id, book_title и price, в которых соответственно содержатся данные:  \n",
        "[1, 1, 1, 2, 2, 3, 3],\n",
        "['Отцы и дети', 'Рудин', 'Дворянское гнездо', 'Толстый и тонкий', 'Дама с собачкой', 'Гроза', 'Таланты и поклонники'],\n",
        "[450, 300, 350, 500, 450, 370, 290].\n"
      ],
      "metadata": {
        "id": "Nx27h66vkmJO"
      }
    },
    {
      "cell_type": "code",
      "source": [
        "import pandas as pd\n"
      ],
      "metadata": {
        "id": "ed3Rmp4cshyJ"
      },
      "execution_count": 2,
      "outputs": []
    },
    {
      "cell_type": "code",
      "source": [
        "authors = pd.DataFrame({'author_id' : [1, 2, 3],\n",
        "        'author_name' :['Тургенев', 'Чехов', 'Островский']})\n",
        "print (\"Авторы:\\n{}\".format(authors))\n",
        "\n",
        "book = pd.DataFrame({'author_id' : [1, 1, 1, 2, 2, 3, 3], \n",
        "        'book_title' : ['Отцы и дети', 'Рудин', 'Дворянское гнездо', 'Толстый и тонкий', 'Дама с собачкой', 'Гроза', 'Таланты и поклонники'],\n",
        "        'price':[450, 300, 350, 500, 450, 370, 290]})\n",
        "print (\"Книги:\\n{}\".format(book))\n"
      ],
      "metadata": {
        "id": "2KJdrgd3sqhr",
        "colab": {
          "base_uri": "https://localhost:8080/"
        },
        "outputId": "2ed10390-7057-4a8e-ad66-c54628fb7b1e"
      },
      "execution_count": 3,
      "outputs": [
        {
          "output_type": "stream",
          "name": "stdout",
          "text": [
            "Авторы:\n",
            "   author_id author_name\n",
            "0          1    Тургенев\n",
            "1          2       Чехов\n",
            "2          3  Островский\n",
            "Книги:\n",
            "   author_id            book_title  price\n",
            "0          1           Отцы и дети    450\n",
            "1          1                 Рудин    300\n",
            "2          1     Дворянское гнездо    350\n",
            "3          2      Толстый и тонкий    500\n",
            "4          2       Дама с собачкой    450\n",
            "5          3                 Гроза    370\n",
            "6          3  Таланты и поклонники    290\n"
          ]
        }
      ]
    },
    {
      "cell_type": "markdown",
      "source": [
        "## Задание 2\n",
        "Получите датафрейм authors_price, соединив датафреймы authors и books по полю author_id.\n"
      ],
      "metadata": {
        "id": "IuZxH_0f-CHt"
      }
    },
    {
      "cell_type": "code",
      "source": [
        "authors_price = pd.merge(authors, book, on = 'author_id')\n",
        "print (authors_price)\n"
      ],
      "metadata": {
        "colab": {
          "base_uri": "https://localhost:8080/"
        },
        "id": "xm6iWbOt-HF-",
        "outputId": "61771266-e37f-46ee-8bbe-7104b502dd40"
      },
      "execution_count": 39,
      "outputs": [
        {
          "output_type": "stream",
          "name": "stdout",
          "text": [
            "   author_id author_name            book_title  price\n",
            "0          1    Тургенев           Отцы и дети    450\n",
            "1          1    Тургенев                 Рудин    300\n",
            "2          1    Тургенев     Дворянское гнездо    350\n",
            "3          2       Чехов      Толстый и тонкий    500\n",
            "4          2       Чехов       Дама с собачкой    450\n",
            "5          3  Островский                 Гроза    370\n",
            "6          3  Островский  Таланты и поклонники    290\n"
          ]
        }
      ]
    },
    {
      "cell_type": "markdown",
      "source": [
        "## Задание 3\n",
        "Создайте датафрейм top5, в котором содержатся строки из authors_price с пятью самыми дорогими книгами.\n"
      ],
      "metadata": {
        "id": "PQ0SZOAw_--_"
      }
    },
    {
      "cell_type": "code",
      "source": [
        "top5 = authors_price.sort_values(by=['price'])[-5:]\n",
        "print(top5)\n",
        "\n",
        "# или так\n",
        "\n",
        "top5 = authors_price.sort_values(by=['price']).tail(5)\n",
        "print(top5)\n"
      ],
      "metadata": {
        "colab": {
          "base_uri": "https://localhost:8080/"
        },
        "id": "0J-dwsw9AED5",
        "outputId": "9059c9c3-9749-4729-a0f8-05cc31c6ce8d"
      },
      "execution_count": 5,
      "outputs": [
        {
          "output_type": "stream",
          "name": "stdout",
          "text": [
            "   author_id author_name         book_title  price\n",
            "2          1    Тургенев  Дворянское гнездо    350\n",
            "5          3  Островский              Гроза    370\n",
            "0          1    Тургенев        Отцы и дети    450\n",
            "4          2       Чехов    Дама с собачкой    450\n",
            "3          2       Чехов   Толстый и тонкий    500\n",
            "   author_id author_name         book_title  price\n",
            "2          1    Тургенев  Дворянское гнездо    350\n",
            "5          3  Островский              Гроза    370\n",
            "0          1    Тургенев        Отцы и дети    450\n",
            "4          2       Чехов    Дама с собачкой    450\n",
            "3          2       Чехов   Толстый и тонкий    500\n"
          ]
        }
      ]
    },
    {
      "cell_type": "markdown",
      "source": [
        "## Задание 4\n",
        "Создайте датафрейм authors_stat на основе информации из authors_price.\n",
        "В датафрейме authors_stat должны быть четыре столбца: \n",
        "author_name, min_price, max_price и mean_price, \n",
        "в которых должны содержаться соответственно имя автора, минимальная, максимальная и средняя цена на книги этого автора.\n"
      ],
      "metadata": {
        "id": "KG3shvTvB-4V"
      }
    },
    {
      "cell_type": "code",
      "source": [
        "authors_stat = pd.concat([authors_price.groupby(by=['author_name']).min().rename(columns={'price':'min_price'}).min_price,\n",
        "                          authors_price.groupby(by=['author_name']).max().rename(columns={'price':'max_price'}).max_price,\n",
        "                          authors_price.groupby(by=['author_name']).mean().rename(columns={'price':'mean_price'}).mean_price],axis=1)\n",
        "print(authors_stat)\n"
      ],
      "metadata": {
        "colab": {
          "base_uri": "https://localhost:8080/"
        },
        "id": "kqVZPHz6CJWN",
        "outputId": "2b0b16b3-397b-4f74-9667-ecef0ecb7fdc"
      },
      "execution_count": 6,
      "outputs": [
        {
          "output_type": "stream",
          "name": "stdout",
          "text": [
            "<class 'pandas.core.frame.DataFrame'>\n"
          ]
        }
      ]
    },
    {
      "cell_type": "markdown",
      "source": [
        "## Задание 5**\n",
        "Создайте новый столбец в датафрейме authors_price под названием cover, в нем будут располагаться данные о том, какая обложка у данной книги - твердая или мягкая.\n",
        "\n",
        "В этот столбец поместите данные из следующего списка:\n",
        "['твердая', 'мягкая', 'мягкая', 'твердая', 'твердая', 'мягкая', 'мягкая'].\n",
        "\n",
        "Просмотрите документацию по функции pd.pivot_table с помощью вопросительного знака.\n",
        "\n",
        "Для каждого автора посчитайте суммарную стоимость книг в твердой и мягкой обложке. \n",
        "\n",
        "Используйте для этого функцию pd.pivot_table.\n",
        "\n",
        "При этом столбцы должны называться \"твердая\" и \"мягкая\", а индексами должны быть фамилии авторов.\n",
        "\n",
        "Пропущенные значения стоимостей заполните нулями, при необходимости загрузите библиотеку Numpy.\n",
        "\n",
        "Назовите полученный датасет book_info и сохраните его в формат pickle под названием \"book_info.pkl\".\n",
        "\n",
        "Затем загрузите из этого файла датафрейм и назовите его book_info2. Удостоверьтесь, что датафреймы book_info и book_info2 идентичны.\n"
      ],
      "metadata": {
        "id": "5-xZOUEG4n-h"
      }
    },
    {
      "cell_type": "code",
      "source": [
        "authors_price['cover'] = ['твердая', 'мягкая', 'мягкая', 'твердая', 'твердая', 'мягкая', 'мягкая']\n",
        "print(authors_price)\n"
      ],
      "metadata": {
        "colab": {
          "base_uri": "https://localhost:8080/"
        },
        "id": "34HHom9w0KB0",
        "outputId": "30744947-eb4c-4c6b-9b3d-0165d2ba0cdf"
      },
      "execution_count": 15,
      "outputs": [
        {
          "output_type": "stream",
          "name": "stdout",
          "text": [
            "   author_id author_name            book_title  price    cover\n",
            "0          1    Тургенев           Отцы и дети    450  твердая\n",
            "1          1    Тургенев                 Рудин    300   мягкая\n",
            "2          1    Тургенев     Дворянское гнездо    350   мягкая\n",
            "3          2       Чехов      Толстый и тонкий    500  твердая\n",
            "4          2       Чехов       Дама с собачкой    450  твердая\n",
            "5          3  Островский                 Гроза    370   мягкая\n",
            "6          3  Островский  Таланты и поклонники    290   мягкая\n"
          ]
        }
      ]
    },
    {
      "cell_type": "code",
      "source": [
        "# import numpy as np\n",
        "book_info = pd.pivot_table(authors_price,values='price', index=['author_name'],columns=['cover'],aggfunc=np.sum, fill_value=0)\n",
        "print(book_info,'\\n')\n",
        "book_info.to_pickle('book_info.pkl')\n",
        "book_info2 = pd.read_pickle('book_info.pkl')\n",
        "print(book_info2,'\\n')\n",
        "print('\\n{}'.format(book_info==book_info2))\n"
      ],
      "metadata": {
        "colab": {
          "base_uri": "https://localhost:8080/"
        },
        "id": "Qn00uua82awW",
        "outputId": "68b2805f-6623-4b6e-875e-5d8ff50218d8"
      },
      "execution_count": 38,
      "outputs": [
        {
          "output_type": "stream",
          "name": "stdout",
          "text": [
            "cover        мягкая  твердая\n",
            "author_name                 \n",
            "Островский      660        0\n",
            "Тургенев        650      450\n",
            "Чехов             0      950 \n",
            "\n",
            "cover        мягкая  твердая\n",
            "author_name                 \n",
            "Островский      660        0\n",
            "Тургенев        650      450\n",
            "Чехов             0      950 \n",
            "\n",
            "\n",
            "cover        мягкая  твердая\n",
            "author_name                 \n",
            "Островский     True     True\n",
            "Тургенев       True     True\n",
            "Чехов          True     True\n"
          ]
        }
      ]
    }
  ]
}