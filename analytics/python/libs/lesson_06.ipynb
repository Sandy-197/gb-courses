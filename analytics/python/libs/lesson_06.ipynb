{
  "nbformat": 4,
  "nbformat_minor": 0,
  "metadata": {
    "colab": {
      "name": "lesson-06.ipynb",
      "provenance": [],
      "collapsed_sections": [
        "d5p3IzZ6YD3W",
        "-HGNB-VjIyhL"
      ],
      "authorship_tag": "ABX9TyNQSg3kteRg1QMNFWxWzXxw",
      "include_colab_link": true
    },
    "kernelspec": {
      "name": "python3",
      "display_name": "Python 3"
    },
    "language_info": {
      "name": "python"
    }
  },
  "cells": [
    {
      "cell_type": "markdown",
      "metadata": {
        "id": "view-in-github",
        "colab_type": "text"
      },
      "source": [
        "<a href=\"https://colab.research.google.com/github/Sandy-197/python-course/blob/lib_lesson_6/lesson_06.ipynb\" target=\"_parent\"><img src=\"https://colab.research.google.com/assets/colab-badge.svg\" alt=\"Open In Colab\"/></a>"
      ]
    },
    {
      "cell_type": "markdown",
      "source": [
        "#Тема “Обучение с учителем”\n",
        "\n",
        "##Задание 1\n",
        "Импортируйте библиотеки pandas и numpy.\n",
        "\n",
        "Загрузите \"Boston House Prices dataset\" из встроенных наборов данных библиотеки sklearn. \n",
        "\n",
        "Создайте датафреймы X и y из этих данных.\n",
        "\n",
        "Разбейте эти датафреймы на тренировочные (X_train, y_train) и тестовые (X_test, y_test) с помощью функции train_test_split так, чтобы размер тестовой выборки\n",
        "составлял 30% от всех данных, при этом аргумент random_state должен быть равен 42.\n",
        "\n",
        "Создайте модель линейной регрессии под названием lr с помощью класса LinearRegression из модуля sklearn.linear_model.\n",
        "\n",
        "Обучите модель на тренировочных данных (используйте все признаки) и сделайте предсказание на тестовых.\n",
        "\n",
        "Вычислите R2 полученных предказаний с помощью r2_score из модуля sklearn.metrics.\n"
      ],
      "metadata": {
        "id": "d5p3IzZ6YD3W"
      }
    },
    {
      "cell_type": "code",
      "execution_count": null,
      "metadata": {
        "id": "2hHx1AJNX7ik"
      },
      "outputs": [],
      "source": [
        "# Импортируйте библиотеки pandas и numpy.\n",
        "import pandas as pd\n",
        "import numpy as np"
      ]
    },
    {
      "cell_type": "code",
      "source": [
        "# Загрузка данных способом,который идет ниже выдает предупреждение, и рекомендует \n",
        "# загружать по другому, поэтому здесь оставлена загрузка для примера, но основная\n",
        "# загрузка выполнена по методу из предупреждения\n",
        "\n",
        "# from sklearn.datasets import load_boston\n",
        "# boston_houses = load_boston()\n",
        "# boston_houses.keys()"
      ],
      "metadata": {
        "id": "tFZF-Hbki2Ur"
      },
      "execution_count": null,
      "outputs": []
    },
    {
      "cell_type": "code",
      "source": [
        "# Загрузите \"Boston House Prices dataset\".\n",
        "data_url = \"http://lib.stat.cmu.edu/datasets/boston\"\n",
        "raw_df = pd.read_csv(data_url, sep=\"\\s+\", skiprows=22, header=None)\n",
        "data = np.hstack([raw_df.values[::2, :], raw_df.values[1::2, :2]])\n",
        "target = raw_df.values[1::2, 2]"
      ],
      "metadata": {
        "id": "hhUcPFS0Zy-T"
      },
      "execution_count": null,
      "outputs": []
    },
    {
      "cell_type": "code",
      "source": [
        "# Создайте датафреймы X и y из этих данных.\n",
        "X = pd.DataFrame(data, columns=['CRIM', 'ZN', 'INDUS', 'CHAS', 'NOX', 'RM', 'AGE', 'DIS', 'RAD',\n",
        "       'TAX', 'PTRATIO', 'B', 'LSTAT'])\n",
        "y = pd.DataFrame(target, columns=['PRICE'])\n",
        "\n",
        "X.head(), y.head()"
      ],
      "metadata": {
        "colab": {
          "base_uri": "https://localhost:8080/"
        },
        "id": "muaigowIaVsj",
        "outputId": "6306d2fa-1026-4496-b189-45c081762673"
      },
      "execution_count": null,
      "outputs": [
        {
          "output_type": "execute_result",
          "data": {
            "text/plain": [
              "(      CRIM    ZN  INDUS  CHAS    NOX     RM   AGE     DIS  RAD    TAX  \\\n",
              " 0  0.00632  18.0   2.31   0.0  0.538  6.575  65.2  4.0900  1.0  296.0   \n",
              " 1  0.02731   0.0   7.07   0.0  0.469  6.421  78.9  4.9671  2.0  242.0   \n",
              " 2  0.02729   0.0   7.07   0.0  0.469  7.185  61.1  4.9671  2.0  242.0   \n",
              " 3  0.03237   0.0   2.18   0.0  0.458  6.998  45.8  6.0622  3.0  222.0   \n",
              " 4  0.06905   0.0   2.18   0.0  0.458  7.147  54.2  6.0622  3.0  222.0   \n",
              " \n",
              "    PTRATIO       B  LSTAT  \n",
              " 0     15.3  396.90   4.98  \n",
              " 1     17.8  396.90   9.14  \n",
              " 2     17.8  392.83   4.03  \n",
              " 3     18.7  394.63   2.94  \n",
              " 4     18.7  396.90   5.33  ,    PRICE\n",
              " 0   24.0\n",
              " 1   21.6\n",
              " 2   34.7\n",
              " 3   33.4\n",
              " 4   36.2)"
            ]
          },
          "metadata": {},
          "execution_count": 5
        }
      ]
    },
    {
      "cell_type": "code",
      "source": [
        "# Разбейте эти датафреймы на тренировочные (X_train, y_train)\n",
        "# и тестовые (X_test, y_test) с помощью функции train_test_split так, \n",
        "# чтобы размер тестовой выборки составлял 30% от всех данных, \n",
        "# при этом аргумент random_state должен быть равен 42.\n",
        "\n",
        "from sklearn.model_selection import train_test_split\n",
        "X_train, X_test, y_train, y_test = train_test_split(X, y, test_size=0.3, random_state=42)"
      ],
      "metadata": {
        "id": "VOzfJDxKjyue"
      },
      "execution_count": null,
      "outputs": []
    },
    {
      "cell_type": "code",
      "source": [
        "# Создайте модель линейной регрессии под названием lr с помощью класса \n",
        "# LinearRegression из модуля sklearn.linear_model.\n",
        "from sklearn.linear_model import LinearRegression\n",
        "lr = LinearRegression()"
      ],
      "metadata": {
        "id": "RtMknYw3kJZt"
      },
      "execution_count": null,
      "outputs": []
    },
    {
      "cell_type": "code",
      "source": [
        "# Обучите модель на тренировочных данных (используйте все признаки)\n",
        "lr.fit(X_train, y_train)"
      ],
      "metadata": {
        "colab": {
          "base_uri": "https://localhost:8080/"
        },
        "id": "Baxd6O0ZlHDe",
        "outputId": "512943ce-0587-47a8-a642-532ad68c7991"
      },
      "execution_count": null,
      "outputs": [
        {
          "output_type": "execute_result",
          "data": {
            "text/plain": [
              "LinearRegression()"
            ]
          },
          "metadata": {},
          "execution_count": 8
        }
      ]
    },
    {
      "cell_type": "code",
      "source": [
        "# сделайте предсказание на тестовых.\n",
        "y_pred = lr.predict(X_test)\n",
        "y_pred.shape"
      ],
      "metadata": {
        "colab": {
          "base_uri": "https://localhost:8080/"
        },
        "id": "LyfO_x_1l2wG",
        "outputId": "0f33fb22-ad5e-4bbc-c7f7-e14a0018b740"
      },
      "execution_count": null,
      "outputs": [
        {
          "output_type": "execute_result",
          "data": {
            "text/plain": [
              "(152, 1)"
            ]
          },
          "metadata": {},
          "execution_count": 9
        }
      ]
    },
    {
      "cell_type": "code",
      "source": [
        "#Вычислите R2 полученных предказаний с помощью r2_score из модуля sklearn.metrics.\n",
        "from sklearn.metrics import r2_score\n",
        "r2_lr = r2_score(y_pred.flatten(), y_test[\"PRICE\"])\n",
        "r2_lr"
      ],
      "metadata": {
        "colab": {
          "base_uri": "https://localhost:8080/"
        },
        "id": "tGY9gVQEmV5H",
        "outputId": "66a53102-7370-496d-80c7-94d374e1b989"
      },
      "execution_count": null,
      "outputs": [
        {
          "output_type": "execute_result",
          "data": {
            "text/plain": [
              "0.669370269149558"
            ]
          },
          "metadata": {},
          "execution_count": 30
        }
      ]
    },
    {
      "cell_type": "markdown",
      "source": [
        "#Задание 2\n",
        "Создайте модель под названием model с помощью RandomForestRegressor из модуля sklearn.ensemble.\n",
        "\n",
        "Сделайте агрумент n_estimators равным 1000,\n",
        "max_depth должен быть равен 12 и random_state сделайте равным 42.\n",
        "\n",
        "Обучите модель на тренировочных данных аналогично тому, как вы обучали модель LinearRegression,\n",
        "но при этом в метод fit вместо датафрейма y_train поставьте y_train.values[:, 0],\n",
        "чтобы получить из датафрейма одномерный массив Numpy,\n",
        "так как для класса RandomForestRegressor в данном методе для аргумента y предпочтительно применение массивов вместо датафрейма.\n",
        "\n",
        "Сделайте предсказание на тестовых данных и посчитайте R2. \n",
        "\n",
        "Сравните с результатом из предыдущего задания.\n",
        "\n",
        "Напишите в комментариях к коду, какая модель в данном случае работает лучше.\n"
      ],
      "metadata": {
        "id": "-HGNB-VjIyhL"
      }
    },
    {
      "cell_type": "code",
      "source": [
        "# Создайте модель под названием model с помощью RandomForestRegressor из модуля sklearn.ensemble.\n",
        "# Сделайте агрумент n_estimators равным 1000, max_depth должен быть равен 12 и random_state сделайте равным 42.\n",
        "\n",
        "from sklearn.ensemble import RandomForestRegressor\n",
        "model = RandomForestRegressor(n_estimators=1000, max_depth=12, random_state=42)"
      ],
      "metadata": {
        "id": "XJnYRVwsJCZ1"
      },
      "execution_count": null,
      "outputs": []
    },
    {
      "cell_type": "code",
      "source": [
        "# Обучите модель на тренировочных данных аналогично тому, как вы обучали модель LinearRegression, \n",
        "# но при этом в метод fit вместо датафрейма y_train поставьте y_train.values[:, 0], \n",
        "# чтобы получить из датафрейма одномерный массив Numpy, \n",
        "# так как для класса RandomForestRegressor в данном методе для аргумента y \n",
        "# предпочтительно применение массивов вместо датафрейма.\n",
        "model.fit(X_train, y_train.values[:, 0])\n"
      ],
      "metadata": {
        "colab": {
          "base_uri": "https://localhost:8080/"
        },
        "id": "tg-6C576JRG7",
        "outputId": "3ea72552-c45f-49b4-c655-b384979e585d"
      },
      "execution_count": null,
      "outputs": [
        {
          "output_type": "execute_result",
          "data": {
            "text/plain": [
              "RandomForestRegressor(max_depth=12, n_estimators=1000, random_state=42)"
            ]
          },
          "metadata": {},
          "execution_count": 20
        }
      ]
    },
    {
      "cell_type": "code",
      "source": [
        "# Сделайте предсказание на тестовых данных и посчитайте R2.\n",
        "y_pred_model = model.predict(X_test)\n",
        "y_pred_model.shape"
      ],
      "metadata": {
        "colab": {
          "base_uri": "https://localhost:8080/"
        },
        "id": "o33E_soJLC_k",
        "outputId": "e142ed77-cbe5-44da-a534-9b6322933a8a"
      },
      "execution_count": null,
      "outputs": [
        {
          "output_type": "execute_result",
          "data": {
            "text/plain": [
              "(152,)"
            ]
          },
          "metadata": {},
          "execution_count": 21
        }
      ]
    },
    {
      "cell_type": "code",
      "source": [
        "r2_rfr = r2_score(y_pred_model.flatten(), y_test[\"PRICE\"])\n",
        "r2_rfr"
      ],
      "metadata": {
        "colab": {
          "base_uri": "https://localhost:8080/"
        },
        "id": "QNV4uUjjLm3h",
        "outputId": "531ec70c-5071-4442-ef90-e5f19bc91348"
      },
      "execution_count": null,
      "outputs": [
        {
          "output_type": "execute_result",
          "data": {
            "text/plain": [
              "0.8479049999699443"
            ]
          },
          "metadata": {},
          "execution_count": 31
        }
      ]
    },
    {
      "cell_type": "code",
      "source": [
        "# Сравните с результатом из предыдущего задания.\n",
        "\n",
        "if r2_lr < r2_rfr:\n",
        "    result = 'RandomForestRegressor лучше, чем LinearRegression' \n",
        "else:\n",
        "    result = 'LinearRegression лучше, чем RandomForestRegressor'\n",
        "\n",
        "print(f'В данном случае {result}.')"
      ],
      "metadata": {
        "colab": {
          "base_uri": "https://localhost:8080/"
        },
        "id": "vFW2ULEeMK26",
        "outputId": "018267ea-db13-47f5-e4ee-c18e5e2dadb7"
      },
      "execution_count": null,
      "outputs": [
        {
          "output_type": "stream",
          "name": "stdout",
          "text": [
            "В данном случае RandomForestRegressor лучше, чем LinearRegression.\n"
          ]
        }
      ]
    },
    {
      "cell_type": "markdown",
      "source": [
        "#*Задание 3\n",
        "Вызовите документацию для класса RandomForestRegressor,\n",
        "найдите информацию об атрибуте feature_importances_.\n",
        "\n",
        "С помощью этого атрибута найдите сумму всех показателей важности, установите, какие два признака показывают наибольшую важность.\n"
      ],
      "metadata": {
        "id": "CFkm-V8sPiZ4"
      }
    },
    {
      "cell_type": "code",
      "source": [
        "?RandomForestRegressor"
      ],
      "metadata": {
        "id": "oZWwXph7PqCm"
      },
      "execution_count": null,
      "outputs": []
    },
    {
      "cell_type": "markdown",
      "source": [
        "feature_importances_ : ndarray of shape (n_features,)\n",
        "    The impurity-based feature importances.\n",
        "    The higher, the more important the feature.\n",
        "    The importance of a feature is computed as the (normalized)\n",
        "    total reduction of the criterion brought by that feature.  It is also\n",
        "    known as the Gini importance.\n",
        "\n",
        "    Warning: impurity-based feature importances can be misleading for\n",
        "    high cardinality features (many unique values). See\n",
        "    :func:`sklearn.inspection.permutation_importance` as an alternative."
      ],
      "metadata": {
        "id": "8AKYDv1rQQC5"
      }
    },
    {
      "cell_type": "code",
      "source": [
        "print(model.feature_importances_)"
      ],
      "metadata": {
        "colab": {
          "base_uri": "https://localhost:8080/"
        },
        "id": "jIa4mztAQT_O",
        "outputId": "482d97b3-38e7-4059-af5a-d78f8c560c9c"
      },
      "execution_count": null,
      "outputs": [
        {
          "output_type": "stream",
          "name": "stdout",
          "text": [
            "[0.03167574 0.00154252 0.00713813 0.00123624 0.01426897 0.40268179\n",
            " 0.01429864 0.06397257 0.00528122 0.01152493 0.01808108 0.01245085\n",
            " 0.41584732]\n"
          ]
        }
      ]
    },
    {
      "cell_type": "code",
      "source": [
        "# С помощью этого атрибута найдите сумму всех показателей важности\n",
        "print(model.feature_importances_.sum())"
      ],
      "metadata": {
        "colab": {
          "base_uri": "https://localhost:8080/"
        },
        "id": "cPNXaIOdQcef",
        "outputId": "2efc19a7-fc4d-430a-a4d3-5527db937771"
      },
      "execution_count": null,
      "outputs": [
        {
          "output_type": "stream",
          "name": "stdout",
          "text": [
            "1.0\n"
          ]
        }
      ]
    },
    {
      "cell_type": "code",
      "source": [
        "# установите, какие два признака показывают наибольшую важность.\n",
        "# создаем словарь, с индексами и значениями (на всякий случай), двух максимальных показателей.\n",
        "f_2_max = np.sort(model.feature_importances_)[:-3:-1]\n",
        "# возможна такая сортировка в обратном порядке\n",
        "# f_2_max = -np.sort(-model.feature_importances_)[:2]\n",
        "\n",
        "f_2_max_dict = { 'idx' : [np.where(model.feature_importances_ == f_2_max[0])[0][0], np.where(model.feature_importances_ == f_2_max[1])[0][0]], 'value' : list(f_2_max)}\n",
        "f_2_max_dict['idx'], f_2_max_dict['value']\n"
      ],
      "metadata": {
        "colab": {
          "base_uri": "https://localhost:8080/"
        },
        "id": "yYNK3gQ5RcYe",
        "outputId": "d954ac54-53f2-480d-e45f-f504192bcb6c"
      },
      "execution_count": null,
      "outputs": [
        {
          "output_type": "execute_result",
          "data": {
            "text/plain": [
              "([12, 5], [0.4158473181914483, 0.4026817857034993])"
            ]
          },
          "metadata": {},
          "execution_count": 142
        }
      ]
    },
    {
      "cell_type": "code",
      "source": [
        ""
      ],
      "metadata": {
        "colab": {
          "base_uri": "https://localhost:8080/"
        },
        "id": "aEHP6Jb8VOrs",
        "outputId": "5a5b4fca-d9ec-4fcd-cc81-76fa8788feef"
      },
      "execution_count": null,
      "outputs": [
        {
          "output_type": "execute_result",
          "data": {
            "text/plain": [
              "([12, 5], [0.4158473181914483, 0.4026817857034993])"
            ]
          },
          "metadata": {},
          "execution_count": 133
        }
      ]
    }
  ]
}